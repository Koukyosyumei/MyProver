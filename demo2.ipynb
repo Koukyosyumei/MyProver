{
 "cells": [
  {
   "cell_type": "code",
   "execution_count": 37,
   "id": "d5d07082-93ab-4837-8c6b-be6793527c5f",
   "metadata": {},
   "outputs": [],
   "source": [
    "import ast\n",
    "import inspect\n",
    "\n",
    "import myprover as mp"
   ]
  },
  {
   "cell_type": "code",
   "execution_count": 38,
   "id": "f7b324f1-d459-4fa5-8ee8-5fd4bf7cbb1f",
   "metadata": {},
   "outputs": [],
   "source": [
    "def parse_func_types(func, inputs=[]):\n",
    "    code = inspect.getsource(func)\n",
    "    func_ast = ast.parse(code)\n",
    "    func_def = func_ast.body[0]\n",
    "    result = []\n",
    "    provided = dict(inputs)\n",
    "    for i in func_def.args.args:\n",
    "        if i.annotation:\n",
    "            result.append(tc.types.to_ast_type(i.annotation))\n",
    "        else:\n",
    "            result.append(provided.get(i.arg, tc.types.TANY))\n",
    "        provided[i.arg] = result[-1]\n",
    "\n",
    "    if func_def.returns:\n",
    "        ret_type = tc.types.to_ast_type(func_def.returns)\n",
    "        return (result, provided, ret_type)\n",
    "    else:\n",
    "        raise Exception(\"Return annotation is required for verifying functions\")"
   ]
  },
  {
   "cell_type": "code",
   "execution_count": 39,
   "id": "62bf3087-d4b8-43b2-8174-fe86ebbcb54c",
   "metadata": {},
   "outputs": [],
   "source": [
    "def func(n: int) -> int:\n",
    "    y = n\n",
    "    x = 0\n",
    "    while y > 0:\n",
    "        invariant(\"x + y == n\")\n",
    "        invariant(\"y >= 0\")\n",
    "        x = x + 1\n",
    "        y = y - 1\n",
    "    return x"
   ]
  },
  {
   "cell_type": "code",
   "execution_count": 40,
   "id": "3864a8d2-f6f4-4c03-aa1f-a5078a24e0be",
   "metadata": {},
   "outputs": [],
   "source": [
    "code = inspect.getsource(func)\n",
    "py_func_ast = ast.parse(code)\n",
    "claim_ast = mp.PyToClaim().visit(py_func_ast)"
   ]
  },
  {
   "cell_type": "code",
   "execution_count": 41,
   "id": "3896a3a8-4c5b-4a7a-8432-e3c170561de7",
   "metadata": {},
   "outputs": [
    {
     "name": "stdout",
     "output_type": "stream",
     "text": [
      "<ast.Name object at 0xffe0b4c004c0>\n"
     ]
    }
   ],
   "source": [
    "for i in py_func_ast.body[0].args.args:\n",
    "    print(i.annotation)"
   ]
  },
  {
   "cell_type": "code",
   "execution_count": 42,
   "id": "103633cb-4522-4612-b438-f3dd2d547e94",
   "metadata": {},
   "outputs": [
    {
     "data": {
      "text/plain": [
       "'int'"
      ]
     },
     "execution_count": 42,
     "metadata": {},
     "output_type": "execute_result"
    }
   ],
   "source": [
    "py_func_ast.body[0].returns.id"
   ]
  },
  {
   "cell_type": "code",
   "execution_count": 43,
   "id": "bf378338-37b1-428b-ad0e-429533336ba9",
   "metadata": {},
   "outputs": [
    {
     "ename": "NameError",
     "evalue": "name 'tc' is not defined",
     "output_type": "error",
     "traceback": [
      "\u001b[0;31m---------------------------------------------------------------------------\u001b[0m",
      "\u001b[0;31mNameError\u001b[0m                                 Traceback (most recent call last)",
      "Cell \u001b[0;32mIn[43], line 1\u001b[0m\n\u001b[0;32m----> 1\u001b[0m \u001b[43mparse_func_types\u001b[49m\u001b[43m(\u001b[49m\u001b[43mfunc\u001b[49m\u001b[43m)\u001b[49m\n",
      "Cell \u001b[0;32mIn[38], line 9\u001b[0m, in \u001b[0;36mparse_func_types\u001b[0;34m(func, inputs)\u001b[0m\n\u001b[1;32m      7\u001b[0m \u001b[38;5;28;01mfor\u001b[39;00m i \u001b[38;5;129;01min\u001b[39;00m func_def\u001b[38;5;241m.\u001b[39margs\u001b[38;5;241m.\u001b[39margs:\n\u001b[1;32m      8\u001b[0m     \u001b[38;5;28;01mif\u001b[39;00m i\u001b[38;5;241m.\u001b[39mannotation:\n\u001b[0;32m----> 9\u001b[0m         result\u001b[38;5;241m.\u001b[39mappend(\u001b[43mtc\u001b[49m\u001b[38;5;241m.\u001b[39mtypes\u001b[38;5;241m.\u001b[39mto_ast_type(i\u001b[38;5;241m.\u001b[39mannotation))\n\u001b[1;32m     10\u001b[0m     \u001b[38;5;28;01melse\u001b[39;00m:\n\u001b[1;32m     11\u001b[0m         result\u001b[38;5;241m.\u001b[39mappend(provided\u001b[38;5;241m.\u001b[39mget(i\u001b[38;5;241m.\u001b[39marg, tc\u001b[38;5;241m.\u001b[39mtypes\u001b[38;5;241m.\u001b[39mTANY))\n",
      "\u001b[0;31mNameError\u001b[0m: name 'tc' is not defined"
     ]
    }
   ],
   "source": [
    "parse_func_types(func)"
   ]
  },
  {
   "cell_type": "code",
   "execution_count": 22,
   "id": "5a79eee8-5137-49f4-8dd9-cfebe42e0326",
   "metadata": {},
   "outputs": [],
   "source": [
    "precond_str = \"n >= 0\"\n",
    "postcond_str = \"x == n\"\n",
    "precond_expr = mp.Parser(precond_str).parse_expr()\n",
    "postcond_expr = mp.Parser(postcond_str).parse_expr()"
   ]
  },
  {
   "cell_type": "code",
   "execution_count": 18,
   "id": "7410f6bf-9916-4ee8-94ae-a4b4ebaee561",
   "metadata": {},
   "outputs": [
    {
     "data": {
      "text/plain": [
       "<ast.Module at 0xffe0b4d27850>"
      ]
     },
     "execution_count": 18,
     "metadata": {},
     "output_type": "execute_result"
    }
   ],
   "source": [
    "py_ast"
   ]
  },
  {
   "cell_type": "code",
   "execution_count": 19,
   "id": "f9eab321-0765-4f05-848c-1f422f2e9111",
   "metadata": {},
   "outputs": [
    {
     "data": {
      "text/plain": [
       "(Seq (Seq (Seq (Assign y (Var n)) (Assign x (Literal VInt 0))) (Seq (Seq (Seq (Seq (Assert (BinOp (BinOp (BinOp (Var x) Op.Add (Var y)) Op.Eq (Var n)) Op.And (BinOp (Var y) Op.Ge (Literal VInt 0)))) (Havoc y)) (Havoc x)) (Assume (BinOp (BinOp (BinOp (Var x) Op.Add (Var y)) Op.Eq (Var n)) Op.And (BinOp (Var y) Op.Ge (Literal VInt 0))))) (If (BinOp (Var y) Op.Gt (Literal VInt 0)) (Seq (Seq (Seq (Assign x (BinOp (Var x) Op.Add (Literal VInt 1))) (Assign y (BinOp (Var y) Op.Minus (Literal VInt 1)))) (Assert (BinOp (BinOp (BinOp (Var x) Op.Add (Var y)) Op.Eq (Var n)) Op.And (BinOp (Var y) Op.Ge (Literal VInt 0))))) (Assume (Literal VBool False))) (Skip)))) (Skip))"
      ]
     },
     "execution_count": 19,
     "metadata": {},
     "output_type": "execute_result"
    }
   ],
   "source": [
    "claim_ast"
   ]
  },
  {
   "cell_type": "code",
   "execution_count": 20,
   "id": "95af367d-e5eb-4180-b54a-292268476347",
   "metadata": {},
   "outputs": [
    {
     "data": {
      "text/plain": [
       "myprover.stmt.SeqStmt"
      ]
     },
     "execution_count": 20,
     "metadata": {},
     "output_type": "execute_result"
    }
   ],
   "source": [
    "type(claim_ast)"
   ]
  },
  {
   "cell_type": "code",
   "execution_count": null,
   "id": "0da81f07-530c-49e2-81ae-ce73f603015f",
   "metadata": {},
   "outputs": [],
   "source": []
  }
 ],
 "metadata": {
  "kernelspec": {
   "display_name": "Python 3 (ipykernel)",
   "language": "python",
   "name": "python3"
  },
  "language_info": {
   "codemirror_mode": {
    "name": "ipython",
    "version": 3
   },
   "file_extension": ".py",
   "mimetype": "text/x-python",
   "name": "python",
   "nbconvert_exporter": "python",
   "pygments_lexer": "ipython3",
   "version": "3.10.12"
  }
 },
 "nbformat": 4,
 "nbformat_minor": 5
}
